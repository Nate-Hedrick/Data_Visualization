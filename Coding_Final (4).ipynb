{
 "cells": [
  {
   "cell_type": "code",
   "execution_count": 1,
   "metadata": {},
   "outputs": [],
   "source": [
    "#Jacob Creasy \n",
    "#Final Project File 2\n",
    "#November 26, 2021\n",
    "#attempting to take a csv file and create a 'bar chart race' with the given data\n",
    "\n",
    "import pandas as pd\n",
    "#https://matplotlib.org/stable/users/index\n",
    "import matplotlib.pyplot as plt #https://matplotlib.org/stable/api/pyplot_summary.html\n",
    "import matplotlib.ticker as ticker #https://matplotlib.org/stable/api/ticker_api.html\n",
    "import matplotlib.animation as animation #https://matplotlib.org/stable/api/animation_api.html\n",
    "from IPython.display import HTML #https://ipython.readthedocs.io/en/stable/api/generated/IPython.display.html\n",
    "import datetime"
   ]
  },
  {
   "cell_type": "code",
   "execution_count": 3,
   "metadata": {},
   "outputs": [
    {
     "data": {
      "text/html": [
       "<div>\n",
       "<style scoped>\n",
       "    .dataframe tbody tr th:only-of-type {\n",
       "        vertical-align: middle;\n",
       "    }\n",
       "\n",
       "    .dataframe tbody tr th {\n",
       "        vertical-align: top;\n",
       "    }\n",
       "\n",
       "    .dataframe thead th {\n",
       "        text-align: right;\n",
       "    }\n",
       "</style>\n",
       "<table border=\"1\" class=\"dataframe\">\n",
       "  <thead>\n",
       "    <tr style=\"text-align: right;\">\n",
       "      <th></th>\n",
       "      <th>Profile Name</th>\n",
       "      <th>Start Time</th>\n",
       "      <th>Duration</th>\n",
       "      <th>Attributes</th>\n",
       "      <th>Title</th>\n",
       "      <th>Supplemental Video Type</th>\n",
       "      <th>Device Type</th>\n",
       "      <th>Bookmark</th>\n",
       "      <th>Latest Bookmark</th>\n",
       "      <th>Country</th>\n",
       "    </tr>\n",
       "  </thead>\n",
       "  <tbody>\n",
       "    <tr>\n",
       "      <th>0</th>\n",
       "      <td>Jacob</td>\n",
       "      <td>2021-10-21 15:18:12</td>\n",
       "      <td>00:08:56</td>\n",
       "      <td>NaN</td>\n",
       "      <td>Dave Chappelle: The Closer</td>\n",
       "      <td>NaN</td>\n",
       "      <td>iPhone 12 Pro Max</td>\n",
       "      <td>00:08:46</td>\n",
       "      <td>00:08:46</td>\n",
       "      <td>US (United States)</td>\n",
       "    </tr>\n",
       "    <tr>\n",
       "      <th>1</th>\n",
       "      <td>Jacob</td>\n",
       "      <td>2021-10-21 15:17:47</td>\n",
       "      <td>00:00:23</td>\n",
       "      <td>Autoplayed: user action: None;</td>\n",
       "      <td>Trailer: Dave Chappelle: The Closer</td>\n",
       "      <td>TRAILER</td>\n",
       "      <td>iPhone 12 Pro Max</td>\n",
       "      <td>00:00:23</td>\n",
       "      <td>00:00:23</td>\n",
       "      <td>US (United States)</td>\n",
       "    </tr>\n",
       "    <tr>\n",
       "      <th>2</th>\n",
       "      <td>Jacob</td>\n",
       "      <td>2021-10-18 16:57:23</td>\n",
       "      <td>00:07:59</td>\n",
       "      <td>NaN</td>\n",
       "      <td>Hancock</td>\n",
       "      <td>NaN</td>\n",
       "      <td>Safari MAC (Cadmium)</td>\n",
       "      <td>00:15:09</td>\n",
       "      <td>00:15:09</td>\n",
       "      <td>DE (Germany)</td>\n",
       "    </tr>\n",
       "    <tr>\n",
       "      <th>3</th>\n",
       "      <td>Jacob</td>\n",
       "      <td>2021-10-18 16:55:06</td>\n",
       "      <td>00:00:07</td>\n",
       "      <td>Autoplayed: user action: None;</td>\n",
       "      <td>Season 1 Trailer: Sex Education</td>\n",
       "      <td>TRAILER</td>\n",
       "      <td>Safari MAC (Cadmium)</td>\n",
       "      <td>00:00:07</td>\n",
       "      <td>00:00:07</td>\n",
       "      <td>DE (Germany)</td>\n",
       "    </tr>\n",
       "    <tr>\n",
       "      <th>4</th>\n",
       "      <td>Jacob</td>\n",
       "      <td>2021-10-18 16:50:24</td>\n",
       "      <td>00:04:10</td>\n",
       "      <td>NaN</td>\n",
       "      <td>Hancock</td>\n",
       "      <td>NaN</td>\n",
       "      <td>Safari MAC (Cadmium)</td>\n",
       "      <td>00:07:10</td>\n",
       "      <td>Not latest view</td>\n",
       "      <td>DE (Germany)</td>\n",
       "    </tr>\n",
       "  </tbody>\n",
       "</table>\n",
       "</div>"
      ],
      "text/plain": [
       "  Profile Name           Start Time  Duration  \\\n",
       "0        Jacob  2021-10-21 15:18:12  00:08:56   \n",
       "1        Jacob  2021-10-21 15:17:47  00:00:23   \n",
       "2        Jacob  2021-10-18 16:57:23  00:07:59   \n",
       "3        Jacob  2021-10-18 16:55:06  00:00:07   \n",
       "4        Jacob  2021-10-18 16:50:24  00:04:10   \n",
       "\n",
       "                        Attributes                                Title  \\\n",
       "0                              NaN           Dave Chappelle: The Closer   \n",
       "1  Autoplayed: user action: None;   Trailer: Dave Chappelle: The Closer   \n",
       "2                              NaN                              Hancock   \n",
       "3  Autoplayed: user action: None;       Season 1 Trailer: Sex Education   \n",
       "4                              NaN                              Hancock   \n",
       "\n",
       "  Supplemental Video Type           Device Type  Bookmark  Latest Bookmark  \\\n",
       "0                     NaN     iPhone 12 Pro Max  00:08:46         00:08:46   \n",
       "1                 TRAILER     iPhone 12 Pro Max  00:00:23         00:00:23   \n",
       "2                     NaN  Safari MAC (Cadmium)  00:15:09         00:15:09   \n",
       "3                 TRAILER  Safari MAC (Cadmium)  00:00:07         00:00:07   \n",
       "4                     NaN  Safari MAC (Cadmium)  00:07:10  Not latest view   \n",
       "\n",
       "              Country  \n",
       "0  US (United States)  \n",
       "1  US (United States)  \n",
       "2        DE (Germany)  \n",
       "3        DE (Germany)  \n",
       "4        DE (Germany)  "
      ]
     },
     "execution_count": 3,
     "metadata": {},
     "output_type": "execute_result"
    }
   ],
   "source": [
    "df = pd.read_csv('ViewingActivity_copy.csv') #reading my csv file and showing the first few lines\n",
    "df.head() #show first few lines to determine which columns need removed becasue their data is not important"
   ]
  },
  {
   "cell_type": "code",
   "execution_count": 4,
   "metadata": {
    "scrolled": true
   },
   "outputs": [
    {
     "data": {
      "text/plain": [
       "0                                   NaN\n",
       "1       Autoplayed: user action: None; \n",
       "2                                   NaN\n",
       "3       Autoplayed: user action: None; \n",
       "4                                   NaN\n",
       "                     ...               \n",
       "8459                                NaN\n",
       "8460                                NaN\n",
       "8461                                NaN\n",
       "8462                                NaN\n",
       "8463    Autoplayed: user action: None; \n",
       "Name: Attributes, Length: 8464, dtype: object"
      ]
     },
     "execution_count": 4,
     "metadata": {},
     "output_type": "execute_result"
    }
   ],
   "source": [
    "#pop the useless columns----could also just do df.drop(['','',''])\n",
    "df.pop('Profile Name') #https://www.geeksforgeeks.org/delete-a-csv-column-in-python/\n",
    "df.pop('Supplemental Video Type')\n",
    "df.pop('Device Type')\n",
    "df.pop('Bookmark')\n",
    "df.pop('Latest Bookmark')\n",
    "df.pop('Country')\n",
    "df.pop('Attributes')"
   ]
  },
  {
   "cell_type": "code",
   "execution_count": null,
   "metadata": {},
   "outputs": [],
   "source": []
  },
  {
   "cell_type": "code",
   "execution_count": 5,
   "metadata": {
    "scrolled": true
   },
   "outputs": [
    {
     "data": {
      "text/html": [
       "<div>\n",
       "<style scoped>\n",
       "    .dataframe tbody tr th:only-of-type {\n",
       "        vertical-align: middle;\n",
       "    }\n",
       "\n",
       "    .dataframe tbody tr th {\n",
       "        vertical-align: top;\n",
       "    }\n",
       "\n",
       "    .dataframe thead th {\n",
       "        text-align: right;\n",
       "    }\n",
       "</style>\n",
       "<table border=\"1\" class=\"dataframe\">\n",
       "  <thead>\n",
       "    <tr style=\"text-align: right;\">\n",
       "      <th></th>\n",
       "      <th>Start Time</th>\n",
       "      <th>Duration</th>\n",
       "      <th>Title</th>\n",
       "    </tr>\n",
       "  </thead>\n",
       "  <tbody>\n",
       "    <tr>\n",
       "      <th>0</th>\n",
       "      <td>2021-10-21 15:18:12</td>\n",
       "      <td>00:08:56</td>\n",
       "      <td>Dave Chappelle: The Closer</td>\n",
       "    </tr>\n",
       "    <tr>\n",
       "      <th>1</th>\n",
       "      <td>2021-10-21 15:17:47</td>\n",
       "      <td>00:00:23</td>\n",
       "      <td>Trailer: Dave Chappelle: The Closer</td>\n",
       "    </tr>\n",
       "    <tr>\n",
       "      <th>2</th>\n",
       "      <td>2021-10-18 16:57:23</td>\n",
       "      <td>00:07:59</td>\n",
       "      <td>Hancock</td>\n",
       "    </tr>\n",
       "    <tr>\n",
       "      <th>3</th>\n",
       "      <td>2021-10-18 16:55:06</td>\n",
       "      <td>00:00:07</td>\n",
       "      <td>Season 1 Trailer: Sex Education</td>\n",
       "    </tr>\n",
       "    <tr>\n",
       "      <th>4</th>\n",
       "      <td>2021-10-18 16:50:24</td>\n",
       "      <td>00:04:10</td>\n",
       "      <td>Hancock</td>\n",
       "    </tr>\n",
       "    <tr>\n",
       "      <th>...</th>\n",
       "      <td>...</td>\n",
       "      <td>...</td>\n",
       "      <td>...</td>\n",
       "    </tr>\n",
       "    <tr>\n",
       "      <th>8459</th>\n",
       "      <td>2020-12-29 03:42:39</td>\n",
       "      <td>00:53:37</td>\n",
       "      <td>Bridgerton: Season 1: Art of the Swoon (Episod...</td>\n",
       "    </tr>\n",
       "    <tr>\n",
       "      <th>8460</th>\n",
       "      <td>2020-12-29 02:28:16</td>\n",
       "      <td>00:58:50</td>\n",
       "      <td>Bridgerton: Season 1: Shock and Delight (Episo...</td>\n",
       "    </tr>\n",
       "    <tr>\n",
       "      <th>8461</th>\n",
       "      <td>2020-12-29 01:33:21</td>\n",
       "      <td>00:54:40</td>\n",
       "      <td>Bridgerton: Season 1: Diamond of the First Wat...</td>\n",
       "    </tr>\n",
       "    <tr>\n",
       "      <th>8462</th>\n",
       "      <td>2020-12-29 01:09:36</td>\n",
       "      <td>00:01:05</td>\n",
       "      <td>Bridgerton: Season 1: Diamond of the First Wat...</td>\n",
       "    </tr>\n",
       "    <tr>\n",
       "      <th>8463</th>\n",
       "      <td>2020-12-29 01:09:26</td>\n",
       "      <td>00:00:04</td>\n",
       "      <td>Season 1 Trailer: Bridgerton</td>\n",
       "    </tr>\n",
       "  </tbody>\n",
       "</table>\n",
       "<p>8464 rows × 3 columns</p>\n",
       "</div>"
      ],
      "text/plain": [
       "               Start Time  Duration  \\\n",
       "0     2021-10-21 15:18:12  00:08:56   \n",
       "1     2021-10-21 15:17:47  00:00:23   \n",
       "2     2021-10-18 16:57:23  00:07:59   \n",
       "3     2021-10-18 16:55:06  00:00:07   \n",
       "4     2021-10-18 16:50:24  00:04:10   \n",
       "...                   ...       ...   \n",
       "8459  2020-12-29 03:42:39  00:53:37   \n",
       "8460  2020-12-29 02:28:16  00:58:50   \n",
       "8461  2020-12-29 01:33:21  00:54:40   \n",
       "8462  2020-12-29 01:09:36  00:01:05   \n",
       "8463  2020-12-29 01:09:26  00:00:04   \n",
       "\n",
       "                                                  Title  \n",
       "0                            Dave Chappelle: The Closer  \n",
       "1                   Trailer: Dave Chappelle: The Closer  \n",
       "2                                               Hancock  \n",
       "3                       Season 1 Trailer: Sex Education  \n",
       "4                                               Hancock  \n",
       "...                                                 ...  \n",
       "8459  Bridgerton: Season 1: Art of the Swoon (Episod...  \n",
       "8460  Bridgerton: Season 1: Shock and Delight (Episo...  \n",
       "8461  Bridgerton: Season 1: Diamond of the First Wat...  \n",
       "8462  Bridgerton: Season 1: Diamond of the First Wat...  \n",
       "8463                       Season 1 Trailer: Bridgerton  \n",
       "\n",
       "[8464 rows x 3 columns]"
      ]
     },
     "execution_count": 5,
     "metadata": {},
     "output_type": "execute_result"
    }
   ],
   "source": [
    "df  #this is our new data set, we still want to get rid of every row with the attribute 'Autoplayed: use action: None'\n",
    "    #because this is just an automatic preview that plays as your scrolling down looking for a show, not the user \n",
    "    #deciding to watch a show or movie and click on it.----Decided to do this through duration and just pop attributes\n",
    "    #the same needs to be done with start time which I plan to use to great my graphs."
   ]
  },
  {
   "cell_type": "code",
   "execution_count": 6,
   "metadata": {},
   "outputs": [],
   "source": [
    "df['Start Time'] = pd.to_datetime(df['Start Time'], utc=True)\n",
    "#used pd.to_datetime() https://pandas.pydata.org/docs/reference/api/pandas.to_datetime.html\n",
    "#UTC is for the time zone identification, started with UTC so we can convert to EST which is done with...\n",
    "#.tz_convert() catch is that tz.convert can only be used with a Datetimeindex so Start Time first has\n",
    "#to be set as the index usingn set_index() then we will undo using. reset_index()"
   ]
  },
  {
   "cell_type": "code",
   "execution_count": 7,
   "metadata": {},
   "outputs": [],
   "source": [
    "df = df.set_index('Start Time') "
   ]
  },
  {
   "cell_type": "code",
   "execution_count": 8,
   "metadata": {},
   "outputs": [],
   "source": [
    "df.index = df.index.tz_convert('US/Eastern')"
   ]
  },
  {
   "cell_type": "raw",
   "metadata": {},
   "source": [
    "df = df.reset_index()"
   ]
  },
  {
   "cell_type": "code",
   "execution_count": 9,
   "metadata": {},
   "outputs": [],
   "source": [
    "#https://pandas.pydata.org/pandas-docs/stable/user_guide/timedeltas.html\n",
    "df['Duration'] = pd.to_timedelta(df['Duration']) #https://pandas.pydata.org/docs/reference/api/pandas.to_timedelta.html\n",
    "#this is necessary, the duration time can now be treated like an integer(timedelta)"
   ]
  },
  {
   "cell_type": "code",
   "execution_count": 10,
   "metadata": {},
   "outputs": [],
   "source": [
    "df = df[(df['Duration'] > '0 days 00:01:00')] #getting rid of any row in the duration column under one minute"
   ]
  },
  {
   "cell_type": "code",
   "execution_count": 11,
   "metadata": {},
   "outputs": [
    {
     "data": {
      "text/html": [
       "<div>\n",
       "<style scoped>\n",
       "    .dataframe tbody tr th:only-of-type {\n",
       "        vertical-align: middle;\n",
       "    }\n",
       "\n",
       "    .dataframe tbody tr th {\n",
       "        vertical-align: top;\n",
       "    }\n",
       "\n",
       "    .dataframe thead th {\n",
       "        text-align: right;\n",
       "    }\n",
       "</style>\n",
       "<table border=\"1\" class=\"dataframe\">\n",
       "  <thead>\n",
       "    <tr style=\"text-align: right;\">\n",
       "      <th></th>\n",
       "      <th>Duration</th>\n",
       "      <th>Title</th>\n",
       "    </tr>\n",
       "    <tr>\n",
       "      <th>Start Time</th>\n",
       "      <th></th>\n",
       "      <th></th>\n",
       "    </tr>\n",
       "  </thead>\n",
       "  <tbody>\n",
       "    <tr>\n",
       "      <th>2021-10-21 11:18:12-04:00</th>\n",
       "      <td>0 days 00:08:56</td>\n",
       "      <td>Dave Chappelle: The Closer</td>\n",
       "    </tr>\n",
       "    <tr>\n",
       "      <th>2021-10-18 12:57:23-04:00</th>\n",
       "      <td>0 days 00:07:59</td>\n",
       "      <td>Hancock</td>\n",
       "    </tr>\n",
       "    <tr>\n",
       "      <th>2021-10-18 12:50:24-04:00</th>\n",
       "      <td>0 days 00:04:10</td>\n",
       "      <td>Hancock</td>\n",
       "    </tr>\n",
       "    <tr>\n",
       "      <th>2021-10-18 12:42:06-04:00</th>\n",
       "      <td>0 days 00:02:58</td>\n",
       "      <td>Hancock</td>\n",
       "    </tr>\n",
       "    <tr>\n",
       "      <th>2021-10-18 10:28:15-04:00</th>\n",
       "      <td>0 days 00:19:09</td>\n",
       "      <td>You: Season 3: And They Lived Happily Ever Aft...</td>\n",
       "    </tr>\n",
       "    <tr>\n",
       "      <th>...</th>\n",
       "      <td>...</td>\n",
       "      <td>...</td>\n",
       "    </tr>\n",
       "    <tr>\n",
       "      <th>2020-12-29 19:09:16-05:00</th>\n",
       "      <td>0 days 00:11:00</td>\n",
       "      <td>Bridgerton: Season 1: An Affair of Honor (Epis...</td>\n",
       "    </tr>\n",
       "    <tr>\n",
       "      <th>2020-12-28 22:42:39-05:00</th>\n",
       "      <td>0 days 00:53:37</td>\n",
       "      <td>Bridgerton: Season 1: Art of the Swoon (Episod...</td>\n",
       "    </tr>\n",
       "    <tr>\n",
       "      <th>2020-12-28 21:28:16-05:00</th>\n",
       "      <td>0 days 00:58:50</td>\n",
       "      <td>Bridgerton: Season 1: Shock and Delight (Episo...</td>\n",
       "    </tr>\n",
       "    <tr>\n",
       "      <th>2020-12-28 20:33:21-05:00</th>\n",
       "      <td>0 days 00:54:40</td>\n",
       "      <td>Bridgerton: Season 1: Diamond of the First Wat...</td>\n",
       "    </tr>\n",
       "    <tr>\n",
       "      <th>2020-12-28 20:09:36-05:00</th>\n",
       "      <td>0 days 00:01:05</td>\n",
       "      <td>Bridgerton: Season 1: Diamond of the First Wat...</td>\n",
       "    </tr>\n",
       "  </tbody>\n",
       "</table>\n",
       "<p>7181 rows × 2 columns</p>\n",
       "</div>"
      ],
      "text/plain": [
       "                                 Duration  \\\n",
       "Start Time                                  \n",
       "2021-10-21 11:18:12-04:00 0 days 00:08:56   \n",
       "2021-10-18 12:57:23-04:00 0 days 00:07:59   \n",
       "2021-10-18 12:50:24-04:00 0 days 00:04:10   \n",
       "2021-10-18 12:42:06-04:00 0 days 00:02:58   \n",
       "2021-10-18 10:28:15-04:00 0 days 00:19:09   \n",
       "...                                   ...   \n",
       "2020-12-29 19:09:16-05:00 0 days 00:11:00   \n",
       "2020-12-28 22:42:39-05:00 0 days 00:53:37   \n",
       "2020-12-28 21:28:16-05:00 0 days 00:58:50   \n",
       "2020-12-28 20:33:21-05:00 0 days 00:54:40   \n",
       "2020-12-28 20:09:36-05:00 0 days 00:01:05   \n",
       "\n",
       "                                                                       Title  \n",
       "Start Time                                                                    \n",
       "2021-10-21 11:18:12-04:00                         Dave Chappelle: The Closer  \n",
       "2021-10-18 12:57:23-04:00                                            Hancock  \n",
       "2021-10-18 12:50:24-04:00                                            Hancock  \n",
       "2021-10-18 12:42:06-04:00                                            Hancock  \n",
       "2021-10-18 10:28:15-04:00  You: Season 3: And They Lived Happily Ever Aft...  \n",
       "...                                                                      ...  \n",
       "2020-12-29 19:09:16-05:00  Bridgerton: Season 1: An Affair of Honor (Epis...  \n",
       "2020-12-28 22:42:39-05:00  Bridgerton: Season 1: Art of the Swoon (Episod...  \n",
       "2020-12-28 21:28:16-05:00  Bridgerton: Season 1: Shock and Delight (Episo...  \n",
       "2020-12-28 20:33:21-05:00  Bridgerton: Season 1: Diamond of the First Wat...  \n",
       "2020-12-28 20:09:36-05:00  Bridgerton: Season 1: Diamond of the First Wat...  \n",
       "\n",
       "[7181 rows x 2 columns]"
      ]
     },
     "execution_count": 11,
     "metadata": {},
     "output_type": "execute_result"
    }
   ],
   "source": [
    "df #what our dataframe curretly looks like "
   ]
  },
  {
   "cell_type": "code",
   "execution_count": 12,
   "metadata": {},
   "outputs": [
    {
     "name": "stdout",
     "output_type": "stream",
     "text": [
      "                                 Duration  \\\n",
      "Start Time                                  \n",
      "2020-12-30 14:54:55-05:00 0 days 00:03:56   \n",
      "2020-12-30 14:47:41-05:00 0 days 00:07:13   \n",
      "2020-12-30 13:42:10-05:00 0 days 00:14:26   \n",
      "2020-12-30 13:38:00-05:00 0 days 00:04:08   \n",
      "2020-12-28 16:36:59-05:00 0 days 00:17:28   \n",
      "...                                   ...   \n",
      "2019-10-06 15:37:02-04:00 0 days 00:21:11   \n",
      "2019-10-06 15:35:03-04:00 0 days 00:01:56   \n",
      "2019-10-06 12:02:26-04:00 0 days 00:10:32   \n",
      "2019-10-05 20:06:04-04:00 0 days 00:08:34   \n",
      "2019-10-05 19:09:33-04:00 0 days 00:22:20   \n",
      "\n",
      "                                                                       Title  \n",
      "Start Time                                                                    \n",
      "2020-12-30 14:54:55-05:00  The Office (U.S.): Season 6: Niagara: Part 1 (...  \n",
      "2020-12-30 14:47:41-05:00  The Office (U.S.): Season 6: The Promotion (Ep...  \n",
      "2020-12-30 13:42:10-05:00  The Office (U.S.): Season 6: The Promotion (Ep...  \n",
      "2020-12-30 13:38:00-05:00  The Office (U.S.): Season 6: The Meeting (Epis...  \n",
      "2020-12-28 16:36:59-05:00  The Office (U.S.): Season 6: The Meeting (Epis...  \n",
      "...                                                                      ...  \n",
      "2019-10-06 15:37:02-04:00  The Office (U.S.): Season 1: Health Care (Epis...  \n",
      "2019-10-06 15:35:03-04:00  The Office (U.S.): Season 1: Diversity Day (Ep...  \n",
      "2019-10-06 12:02:26-04:00  The Office (U.S.): Season 1: Diversity Day (Ep...  \n",
      "2019-10-05 20:06:04-04:00  The Office (U.S.): Season 1: Diversity Day (Ep...  \n",
      "2019-10-05 19:09:33-04:00     The Office (U.S.): Season 1: Pilot (Episode 1)  \n",
      "\n",
      "[1397 rows x 2 columns]\n"
     ]
    }
   ],
   "source": [
    "#Up to this point we have brought our csv file into jupyter notebook and deleted columns that were not necessary.\n",
    "#We have also converted our start time and durtion columns into datetime and time delta values that for pandas\n",
    "#We not need to figure out a way to get a list of all of the showing in our. To find one show we could do, \n",
    "theoffice = df[df['Title'].str.contains('The Office (U.S.)', regex=False)]\n",
    "print(theoffice)"
   ]
  },
  {
   "cell_type": "code",
   "execution_count": 13,
   "metadata": {},
   "outputs": [],
   "source": [
    "#This shows our total time of a single show. We need a function that will do this automatically with all shows in a\n",
    "#certain user selected time ineterval\n",
    "#theoffice.pop('Title')\n",
    "theoffice = theoffice['Duration'].sum()"
   ]
  },
  {
   "cell_type": "code",
   "execution_count": 14,
   "metadata": {},
   "outputs": [
    {
     "name": "stdout",
     "output_type": "stream",
     "text": [
      "16 days 04:34:03\n"
     ]
    }
   ],
   "source": [
    "print(theoffice)"
   ]
  },
  {
   "cell_type": "code",
   "execution_count": 15,
   "metadata": {},
   "outputs": [],
   "source": [
    " new_theoffice=theoffice / datetime.timedelta(hours=1) #turning a datetime value into the amount of hours it is"
   ]
  },
  {
   "cell_type": "code",
   "execution_count": 16,
   "metadata": {},
   "outputs": [
    {
     "name": "stdout",
     "output_type": "stream",
     "text": [
      "388.5675\n",
      "<class 'float'>\n"
     ]
    }
   ],
   "source": [
    "print(new_theoffice)\n",
    "print(type(new_theoffice))"
   ]
  },
  {
   "cell_type": "code",
   "execution_count": 17,
   "metadata": {},
   "outputs": [],
   "source": [
    "#fig, ax = plt.subplots(figsize=(8, 15)) \n",
    "#ax.barh('TheOffice',new_theoffice.sum(),20,10)"
   ]
  },
  {
   "cell_type": "code",
   "execution_count": 18,
   "metadata": {},
   "outputs": [],
   "source": [
    "#graphing function attempt\n",
    "def graphfunc(x):\n",
    "    fig, ax = plt.subplots(figsize=(len(x), len(x))) \n",
    "    ax.barh()"
   ]
  },
  {
   "cell_type": "code",
   "execution_count": 19,
   "metadata": {},
   "outputs": [],
   "source": [
    "def trimNetflixData(x): #x is a dataframe\n",
    "    df = pd.read_csv('ViewingActivity_copy.csv')\n",
    "    df.pop('Profile Name')\n",
    "    df.pop('Supplemental Video Type')\n",
    "    df.pop('Device Type')\n",
    "    df.pop('Bookmark')\n",
    "    df.pop('Latest Bookmark')\n",
    "    df.pop('Country')\n",
    "    df.pop('Attributes')\n",
    "    df['Start Time'] = pd.to_datetime(df['Start Time'], utc=True)\n",
    "    df = df.set_index('Start Time') \n",
    "    df.index = df.index.tz_convert('US/Eastern')\n",
    "    df = df.reset_index()\n",
    "    df['Duration'] = pd.to_timedelta(df['Duration'])\n",
    "    df = df[(df['Duration'] > '0 days 00:01:00')]\n",
    "    return df"
   ]
  },
  {
   "cell_type": "code",
   "execution_count": 20,
   "metadata": {},
   "outputs": [],
   "source": [
    "def turntohours(x): #x in this case is a datetime value\n",
    "    newx = x/datetime.timedelta(hours=1)\n",
    "    return newx"
   ]
  },
  {
   "cell_type": "code",
   "execution_count": 21,
   "metadata": {},
   "outputs": [],
   "source": [
    "def sumfunc(show):\n",
    "    x = df[df['Title'].str.contains(show, regex=False)]\n",
    "    x = x['Duration'].sum()\n",
    "    #return turntohours(x)\n",
    "    return x\n"
   ]
  },
  {
   "cell_type": "code",
   "execution_count": 22,
   "metadata": {},
   "outputs": [],
   "source": [
    "def createDFfromDictonary(d): #Ended up not needing \n",
    "    pd.DataFrame.from_dict(d, orient='index')\n",
    "    return d"
   ]
  },
  {
   "cell_type": "code",
   "execution_count": 23,
   "metadata": {},
   "outputs": [],
   "source": [
    "def createDictionary(): #eneded up not needing\n",
    "    for title in df2['title']:\n",
    "        d[title] = sumfunc(title)"
   ]
  },
  {
   "cell_type": "code",
   "execution_count": 24,
   "metadata": {},
   "outputs": [],
   "source": [
    "df2 = pd.read_csv('netflix_titles.csv') #bringing in our second csv file that is a list of all netflix shows/movies/etc."
   ]
  },
  {
   "cell_type": "code",
   "execution_count": 25,
   "metadata": {
    "scrolled": true
   },
   "outputs": [],
   "source": [
    "d = {}"
   ]
  },
  {
   "cell_type": "code",
   "execution_count": 26,
   "metadata": {},
   "outputs": [
    {
     "data": {
      "text/plain": [
       "Timedelta('5 days 13:47:52')"
      ]
     },
     "execution_count": 26,
     "metadata": {},
     "output_type": "execute_result"
    }
   ],
   "source": [
    "sumfunc('Friends') #we now have a function that can take in a show and will output the total time watched."
   ]
  },
  {
   "cell_type": "code",
   "execution_count": 27,
   "metadata": {},
   "outputs": [
    {
     "data": {
      "text/html": [
       "<div>\n",
       "<style scoped>\n",
       "    .dataframe tbody tr th:only-of-type {\n",
       "        vertical-align: middle;\n",
       "    }\n",
       "\n",
       "    .dataframe tbody tr th {\n",
       "        vertical-align: top;\n",
       "    }\n",
       "\n",
       "    .dataframe thead th {\n",
       "        text-align: right;\n",
       "    }\n",
       "</style>\n",
       "<table border=\"1\" class=\"dataframe\">\n",
       "  <thead>\n",
       "    <tr style=\"text-align: right;\">\n",
       "      <th></th>\n",
       "      <th>0</th>\n",
       "    </tr>\n",
       "  </thead>\n",
       "  <tbody>\n",
       "    <tr>\n",
       "      <th>Dick Johnson Is Dead</th>\n",
       "      <td>0 days</td>\n",
       "    </tr>\n",
       "    <tr>\n",
       "      <th>Blood &amp; Water</th>\n",
       "      <td>0 days</td>\n",
       "    </tr>\n",
       "    <tr>\n",
       "      <th>Ganglands</th>\n",
       "      <td>0 days</td>\n",
       "    </tr>\n",
       "    <tr>\n",
       "      <th>Jailbirds New Orleans</th>\n",
       "      <td>0 days</td>\n",
       "    </tr>\n",
       "    <tr>\n",
       "      <th>Kota Factory</th>\n",
       "      <td>0 days</td>\n",
       "    </tr>\n",
       "    <tr>\n",
       "      <th>...</th>\n",
       "      <td>...</td>\n",
       "    </tr>\n",
       "    <tr>\n",
       "      <th>Zodiac</th>\n",
       "      <td>0 days</td>\n",
       "    </tr>\n",
       "    <tr>\n",
       "      <th>Zombie Dumb</th>\n",
       "      <td>0 days</td>\n",
       "    </tr>\n",
       "    <tr>\n",
       "      <th>Zombieland</th>\n",
       "      <td>0 days</td>\n",
       "    </tr>\n",
       "    <tr>\n",
       "      <th>Zoom</th>\n",
       "      <td>0 days</td>\n",
       "    </tr>\n",
       "    <tr>\n",
       "      <th>Zubaan</th>\n",
       "      <td>0 days</td>\n",
       "    </tr>\n",
       "  </tbody>\n",
       "</table>\n",
       "<p>8807 rows × 1 columns</p>\n",
       "</div>"
      ],
      "text/plain": [
       "                           0\n",
       "Dick Johnson Is Dead  0 days\n",
       "Blood & Water         0 days\n",
       "Ganglands             0 days\n",
       "Jailbirds New Orleans 0 days\n",
       "Kota Factory          0 days\n",
       "...                      ...\n",
       "Zodiac                0 days\n",
       "Zombie Dumb           0 days\n",
       "Zombieland            0 days\n",
       "Zoom                  0 days\n",
       "Zubaan                0 days\n",
       "\n",
       "[8807 rows x 1 columns]"
      ]
     },
     "execution_count": 27,
     "metadata": {},
     "output_type": "execute_result"
    }
   ],
   "source": [
    "for title in df2['title']:\n",
    "    d[title] = sumfunc(title)\n",
    "pd.DataFrame.from_dict(d, orient='index')   \n",
    "#This is what we were stuck on for the longest period of time. We had a very hard time trying to get a dataframe with two columnsd\n",
    "#out of the kev:value pairs of the dictionary.  We wanted the values to be in the titles column and the keys to be in \n",
    "#the duration column. Anything with no duration would be removed because we arent intersted in stuff I didn't watch"
   ]
  },
  {
   "cell_type": "code",
   "execution_count": null,
   "metadata": {},
   "outputs": [],
   "source": []
  }
 ],
 "metadata": {
  "kernelspec": {
   "display_name": "Python 3 (ipykernel)",
   "language": "python",
   "name": "python3"
  },
  "language_info": {
   "codemirror_mode": {
    "name": "ipython",
    "version": 3
   },
   "file_extension": ".py",
   "mimetype": "text/x-python",
   "name": "python",
   "nbconvert_exporter": "python",
   "pygments_lexer": "ipython3",
   "version": "3.9.7"
  }
 },
 "nbformat": 4,
 "nbformat_minor": 4
}
