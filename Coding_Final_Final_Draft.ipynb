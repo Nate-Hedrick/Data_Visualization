{
 "cells": [
  {
   "cell_type": "code",
   "execution_count": 1,
   "metadata": {},
   "outputs": [],
   "source": [
    "#Our original plan was to create a bar chart race with the data from a netflix csv file. This turned out to be much harder than anticipated\n",
    "#The plan was to take a grahp of the top shows watched in 1 month intervals having the graph update every 1-2 seconds creating \n",
    "#a bar chart race animation.\n",
    "#The problem occured first with isolating the data from the csv file. We had to take the csv file and put it into a datafram\n",
    "#take that dataframe and turn it into a dictionary and then back into a dataframe. This final dataframe included\n",
    "#a list of every show watched on my netflic account along with how much time it was watched for cumulatively over\n",
    "#the life span of my netflix account.\n",
    "\n",
    "#This file is the final polished method requied to get out data stripped and set up to graph, which we were not able to do.\n",
    "#What prevented us from graphing the data?\n",
    "#To pull off our idea, we would have had to make our own time series within pandas. This is something out of our skill level\n"
   ]
  },
  {
   "cell_type": "code",
   "execution_count": 2,
   "metadata": {},
   "outputs": [],
   "source": [
    "import pandas as pd\n",
    "#https://matplotlib.org/stable/users/index\n",
    "import matplotlib.pyplot as plt #https://matplotlib.org/stable/api/pyplot_summary.html\n",
    "import datetime"
   ]
  },
  {
   "cell_type": "code",
   "execution_count": 3,
   "metadata": {},
   "outputs": [],
   "source": [
    "df2 = pd.read_csv('netflix_titles.csv') #bringing in our second csv file that is a list of all netflix shows/movies/etc."
   ]
  },
  {
   "cell_type": "code",
   "execution_count": 8,
   "metadata": {},
   "outputs": [],
   "source": [
    "def trimNetflixData(): \n",
    "    df = pd.read_csv('ViewingActivity_copy.csv')\n",
    "    df.pop('Profile Name')\n",
    "    df.pop('Supplemental Video Type')\n",
    "    df.pop('Device Type')\n",
    "    df.pop('Bookmark')\n",
    "    df.pop('Latest Bookmark')\n",
    "    df.pop('Country')\n",
    "    df.pop('Attributes')\n",
    "    df['Start Time'] = pd.to_datetime(df['Start Time'], utc=True)\n",
    "    df = df.set_index('Start Time') \n",
    "    df.index = df.index.tz_convert('US/Eastern')\n",
    "    df = df.reset_index()\n",
    "    df['Duration'] = pd.to_timedelta(df['Duration'])\n",
    "    df = df[(df['Duration'] > '0 days 00:01:00')]\n",
    "    return df"
   ]
  },
  {
   "cell_type": "code",
   "execution_count": 9,
   "metadata": {},
   "outputs": [],
   "source": [
    "def turntohours(x): #x in this case is a datetime value, SOLELY USED IN FUNCTION 2\n",
    "    newx = x/datetime.timedelta(hours=1)\n",
    "    return newx"
   ]
  },
  {
   "cell_type": "code",
   "execution_count": 10,
   "metadata": {},
   "outputs": [],
   "source": [
    "def main():\n",
    "    d = {}\n",
    "    df = trimNetflixData()\n",
    "    \n",
    "    #pd.options.display.max_rows = 450\n",
    "    \n",
    "    for title in df2['title']:\n",
    "        x = df[df['Title'].str.contains(title, regex=False)]\n",
    "        x = x['Duration'].sum()\n",
    "        d[title] = turntohours(x)\n",
    "     \n",
    "    dff = pd.DataFrame(d.items())\n",
    "    dff = dff.dropna()\n",
    "    \n",
    "    return dff\n",
    "    \n",
    "    "
   ]
  },
  {
   "cell_type": "code",
   "execution_count": 11,
   "metadata": {
    "scrolled": true
   },
   "outputs": [
    {
     "name": "stdout",
     "output_type": "stream",
     "text": [
      "                          0    1\n",
      "0      Dick Johnson Is Dead  0.0\n",
      "1             Blood & Water  0.0\n",
      "2                 Ganglands  0.0\n",
      "3     Jailbirds New Orleans  0.0\n",
      "4              Kota Factory  0.0\n",
      "...                     ...  ...\n",
      "8802                 Zodiac  0.0\n",
      "8803            Zombie Dumb  0.0\n",
      "8804             Zombieland  0.0\n",
      "8805                   Zoom  0.0\n",
      "8806                 Zubaan  0.0\n",
      "\n",
      "[8807 rows x 2 columns]\n"
     ]
    }
   ],
   "source": [
    "print(main())"
   ]
  },
  {
   "cell_type": "code",
   "execution_count": null,
   "metadata": {},
   "outputs": [],
   "source": []
  },
  {
   "cell_type": "code",
   "execution_count": null,
   "metadata": {},
   "outputs": [],
   "source": []
  },
  {
   "cell_type": "code",
   "execution_count": null,
   "metadata": {},
   "outputs": [],
   "source": []
  }
 ],
 "metadata": {
  "kernelspec": {
   "display_name": "Python 3 (ipykernel)",
   "language": "python",
   "name": "python3"
  },
  "language_info": {
   "codemirror_mode": {
    "name": "ipython",
    "version": 3
   },
   "file_extension": ".py",
   "mimetype": "text/x-python",
   "name": "python",
   "nbconvert_exporter": "python",
   "pygments_lexer": "ipython3",
   "version": "3.9.7"
  }
 },
 "nbformat": 4,
 "nbformat_minor": 4
}
